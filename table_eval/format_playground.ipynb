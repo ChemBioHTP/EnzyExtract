{
 "cells": [
  {
   "cell_type": "code",
   "execution_count": 8,
   "metadata": {},
   "outputs": [
    {
     "data": {
      "text/html": [
       "<div>\n",
       "<style scoped>\n",
       "    .dataframe tbody tr th:only-of-type {\n",
       "        vertical-align: middle;\n",
       "    }\n",
       "\n",
       "    .dataframe tbody tr th {\n",
       "        vertical-align: top;\n",
       "    }\n",
       "\n",
       "    .dataframe thead tr th {\n",
       "        text-align: left;\n",
       "    }\n",
       "</style>\n",
       "<table border=\"1\" class=\"dataframe\">\n",
       "  <thead>\n",
       "    <tr>\n",
       "      <th></th>\n",
       "      <th colspan=\"2\" halign=\"left\">Level 1</th>\n",
       "      <th colspan=\"2\" halign=\"left\">Level 2</th>\n",
       "    </tr>\n",
       "    <tr>\n",
       "      <th></th>\n",
       "      <th>Sub-level 1.1</th>\n",
       "      <th>Sub-level 1.2</th>\n",
       "      <th>Sub-level 2.1</th>\n",
       "      <th>Sub-level 2.2</th>\n",
       "    </tr>\n",
       "  </thead>\n",
       "  <tbody>\n",
       "    <tr>\n",
       "      <th>A</th>\n",
       "      <td>1</td>\n",
       "      <td>4</td>\n",
       "      <td>7</td>\n",
       "      <td>10</td>\n",
       "    </tr>\n",
       "    <tr>\n",
       "      <th>B</th>\n",
       "      <td>2</td>\n",
       "      <td>5</td>\n",
       "      <td>8</td>\n",
       "      <td>11</td>\n",
       "    </tr>\n",
       "    <tr>\n",
       "      <th>C</th>\n",
       "      <td>3</td>\n",
       "      <td>6</td>\n",
       "      <td>9</td>\n",
       "      <td>12</td>\n",
       "    </tr>\n",
       "  </tbody>\n",
       "</table>\n",
       "</div>"
      ],
      "text/plain": [
       "        Level 1                     Level 2              \n",
       "  Sub-level 1.1 Sub-level 1.2 Sub-level 2.1 Sub-level 2.2\n",
       "A             1             4             7            10\n",
       "B             2             5             8            11\n",
       "C             3             6             9            12"
      ]
     },
     "execution_count": 8,
     "metadata": {},
     "output_type": "execute_result"
    }
   ],
   "source": [
    "import pandas as pd\n",
    "\n",
    "# Create a multi-level column index\n",
    "column_index = pd.MultiIndex.from_tuples(\n",
    "    [\n",
    "        (\"Level 1\", \"Sub-level 1.1\"),\n",
    "        (\"Level 1\", \"Sub-level 1.2\"),\n",
    "        (\"Level 2\", \"Sub-level 2.1\"),\n",
    "        (\"Level 2\", \"Sub-level 2.2\"),\n",
    "    ],\n",
    "    names=[\"Level\", \"Sub-level\"],\n",
    ")\n",
    "\n",
    "# Create a sample DataFrame with the multi-level column index\n",
    "data = {\n",
    "    (\"Level 1\", \"Sub-level 1.1\"): [1, 2, 3],\n",
    "    (\"Level 1\", \"Sub-level 1.2\"): [4, 5, 6],\n",
    "    (\"Level 2\", \"Sub-level 2.1\"): [7, 8, 9],\n",
    "    (\"Level 2\", \"Sub-level 2.2\"): [10, 11, 12],\n",
    "}\n",
    "df = pd.DataFrame(data, index=[\"A\", \"B\", \"C\"])\n",
    "\n",
    "# Display the DataFrame\n",
    "df"
   ]
  },
  {
   "cell_type": "code",
   "execution_count": 10,
   "metadata": {},
   "outputs": [
    {
     "name": "stdout",
     "output_type": "stream",
     "text": [
      "|    |   ('Level 1', 'Sub-level 1.1') |   ('Level 1', 'Sub-level 1.2') |   ('Level 2', 'Sub-level 2.1') |   ('Level 2', 'Sub-level 2.2') |\n",
      "|:---|-------------------------------:|-------------------------------:|-------------------------------:|-------------------------------:|\n",
      "| A  |                              1 |                              4 |                              7 |                             10 |\n",
      "| B  |                              2 |                              5 |                              8 |                             11 |\n",
      "| C  |                              3 |                              6 |                              9 |                             12 |\n"
     ]
    }
   ],
   "source": [
    "print(df.to_markdown())"
   ]
  },
  {
   "cell_type": "code",
   "execution_count": 22,
   "metadata": {},
   "outputs": [
    {
     "data": {
      "text/html": [
       "<table border=\"1\" class=\"dataframe\">\n",
       "  <thead>\n",
       "    <tr>\n",
       "      <th></th>\n",
       "      <th colspan=\"2\" halign=\"left\">Level 1</th>\n",
       "      <th colspan=\"2\" halign=\"left\">Level 2</th>\n",
       "    </tr>\n",
       "    <tr>\n",
       "      <th></th>\n",
       "      <th>Sub-level 1.1</th>\n",
       "      <th>Sub-level 1.2</th>\n",
       "      <th>Sub-level 2.1</th>\n",
       "      <th>Sub-level 2.2</th>\n",
       "    </tr>\n",
       "  </thead>\n",
       "  <tbody>\n",
       "    <tr>\n",
       "      <th>A</th>\n",
       "      <td>1</td>\n",
       "      <td>4</td>\n",
       "      <td>7</td>\n",
       "      <td>10</td>\n",
       "    </tr>\n",
       "    <tr>\n",
       "      <th>B</th>\n",
       "      <td>2</td>\n",
       "      <td>5</td>\n",
       "      <td>8</td>\n",
       "      <td>11</td>\n",
       "    </tr>\n",
       "    <tr>\n",
       "      <th>C</th>\n",
       "      <td>3</td>\n",
       "      <td>6</td>\n",
       "      <td>9</td>\n",
       "      <td>12</td>\n",
       "    </tr>\n",
       "  </tbody>\n",
       "</table>"
      ],
      "text/plain": [
       "<IPython.core.display.HTML object>"
      ]
     },
     "metadata": {},
     "output_type": "display_data"
    }
   ],
   "source": [
    "from IPython.display import display, HTML\n",
    "\n",
    "display(HTML(df.to_html()))"
   ]
  },
  {
   "cell_type": "code",
   "execution_count": 23,
   "metadata": {},
   "outputs": [
    {
     "name": "stdout",
     "output_type": "stream",
     "text": [
      "\\begin{tabular}{lrrrr}\n",
      "\\toprule\n",
      " & \\multicolumn{2}{r}{Level 1} & \\multicolumn{2}{r}{Level 2} \\\\\n",
      " & Sub-level 1.1 & Sub-level 1.2 & Sub-level 2.1 & Sub-level 2.2 \\\\\n",
      "\\midrule\n",
      "A & 1 & 4 & 7 & 10 \\\\\n",
      "B & 2 & 5 & 8 & 11 \\\\\n",
      "C & 3 & 6 & 9 & 12 \\\\\n",
      "\\bottomrule\n",
      "\\end{tabular}\n",
      "\n"
     ]
    }
   ],
   "source": [
    "print(df.to_latex())"
   ]
  },
  {
   "cell_type": "code",
   "execution_count": 36,
   "metadata": {},
   "outputs": [
    {
     "data": {
      "text/plain": [
       "<module 'utils.evaluate_table_formats' from 'c:\\\\conjunct\\\\table_eval\\\\utils\\\\evaluate_table_formats.py'>"
      ]
     },
     "execution_count": 36,
     "metadata": {},
     "output_type": "execute_result"
    }
   ],
   "source": [
    "import importlib\n",
    "import utils.evaluate_table_formats as evaluate_table_formats\n",
    "importlib.reload(evaluate_table_formats)\n"
   ]
  },
  {
   "cell_type": "code",
   "execution_count": 33,
   "metadata": {},
   "outputs": [
    {
     "name": "stdout",
     "output_type": "stream",
     "text": [
      "\\begin{tabular}{lllllllllllllllllllll}\n",
      "\\toprule\n",
      " & g & p & c & k & ! & w & x & z & l & i & o & j & s & d & r & v & u & y & e & m \\\\\n",
      "\\midrule\n",
      "0 & i & t & h & a & k & r & l & d & g & s & o & m & z & b & q & j & x & p & y & n \\\\\n",
      "\\bottomrule\n",
      "\\end{tabular}\n",
      "\n"
     ]
    }
   ],
   "source": [
    "df2 = evaluate_table_formats.create_decks(1, num_cols=20)[0]\n",
    "df2 = evaluate_table_formats.designate_target(df2, 4, '!')\n",
    "print(df2.to_latex())"
   ]
  },
  {
   "cell_type": "code",
   "execution_count": 35,
   "metadata": {},
   "outputs": [
    {
     "name": "stdout",
     "output_type": "stream",
     "text": [
      "In this markdown table, what value falls under header \"!\"?\n",
      "\n",
      "Do not explain, only answer.\n",
      "| !   | i   | x   | s   | g   | d   | u   | a   | b   | f   | c   | p   | h   | j   | y   | o   | z   | r   | w   | m   |\n",
      "|:----|:----|:----|:----|:----|:----|:----|:----|:----|:----|:----|:----|:----|:----|:----|:----|:----|:----|:----|:----|\n",
      "| f   | l   | k   | t   | s   | y   | b   | j   | e   | h   | c   | m   | a   | g   | q   | p   | u   | i   | r   | n   |\n",
      "\n"
     ]
    }
   ],
   "source": [
    "print(\"In this markdown table, what value falls under header \\\"!\\\"?\\n\\nDo not explain, only answer.\\n| !   | i   | x   | s   | g   | d   | u   | a   | b   | f   | c   | p   | h   | j   | y   | o   | z   | r   | w   | m   |\\n|:----|:----|:----|:----|:----|:----|:----|:----|:----|:----|:----|:----|:----|:----|:----|:----|:----|:----|:----|:----|\\n| f   | l   | k   | t   | s   | y   | b   | j   | e   | h   | c   | m   | a   | g   | q   | p   | u   | i   | r   | n   |\\n\")"
   ]
  }
 ],
 "metadata": {
  "kernelspec": {
   "display_name": "utils",
   "language": "python",
   "name": "python3"
  },
  "language_info": {
   "codemirror_mode": {
    "name": "ipython",
    "version": 3
   },
   "file_extension": ".py",
   "mimetype": "text/x-python",
   "name": "python",
   "nbconvert_exporter": "python",
   "pygments_lexer": "ipython3",
   "version": "3.10.13"
  }
 },
 "nbformat": 4,
 "nbformat_minor": 2
}
